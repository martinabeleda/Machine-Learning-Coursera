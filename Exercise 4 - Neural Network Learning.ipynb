{
 "cells": [
  {
   "cell_type": "markdown",
   "metadata": {},
   "source": [
    "# Exercise 4 - Neural Networks Learning\n",
    "\n",
    "This notebook covers my solutions to Andrew Ng's Machine Learning course Exercise 4 - Neural Networks Learning.\n",
    "\n",
    "In this exercise, we implement a neural network to fit a non-linear hypothesis to the MNIST dataset. We implement the backpropagation algorithm to train the network .\n",
    "\n",
    "First, import necessary packages:"
   ]
  },
  {
   "cell_type": "code",
   "execution_count": 1,
   "metadata": {},
   "outputs": [],
   "source": [
    "import numpy as np\n",
    "import pandas as pd\n",
    "import matplotlib.pyplot as plt\n",
    "import os\n",
    "\n",
    "from scipy.io import loadmat\n",
    "from sklearn.preprocessing import OneHotEncoder\n",
    "\n",
    "# Initialise parameters\n",
    "input_layer_size  = 400   # 20x20 Input Images of Digits\n",
    "hidden_layer_size = 25    # 25 hidden units\n",
    "num_labels = 10           # 10 labels, from 1 to 10   \n",
    "                          # (note that we have mapped \"0\" to label 10)"
   ]
  },
  {
   "cell_type": "markdown",
   "metadata": {},
   "source": [
    "Let's load and inspect the training data."
   ]
  },
  {
   "cell_type": "code",
   "execution_count": 2,
   "metadata": {},
   "outputs": [
    {
     "data": {
      "text/plain": [
       "(-0.5, 399.5, 19.5, -0.5)"
      ]
     },
     "execution_count": 2,
     "metadata": {},
     "output_type": "execute_result"
    },
    {
     "data": {
      "image/png": "[encoded data removed]",
      "text/plain": [
       "<Figure size 1080x1080 with 1 Axes>"
      ]
     },
     "metadata": {},
     "output_type": "display_data"
    }
   ],
   "source": [
    "path = os.path.join(os.getcwd(), 'data', 'ex4data1.mat')\n",
    "data = loadmat(path)\n",
    "y = data['y']\n",
    "X = data['X']\n",
    "\n",
    "# Choose a random sample of data to display\n",
    "sample = X[np.random.choice(X.shape[0], 20)]\n",
    "plt.figure(figsize=(15,15))\n",
    "plt.imshow(sample.reshape(-1, 20).T, interpolation='bilinear', cmap='gray')\n",
    "plt.axis('off')"
   ]
  },
  {
   "cell_type": "markdown",
   "metadata": {},
   "source": [
    "Now, we load some pre-initialised neural network parameters, and unroll the weights $\\theta_1$, $\\theta_2$ into a single parameter vector. Note that we first need to transpose the matrices to get MATLAB-like behaviour."
   ]
  },
  {
   "cell_type": "code",
   "execution_count": 3,
   "metadata": {},
   "outputs": [
    {
     "name": "stdout",
     "output_type": "stream",
     "text": [
      "Theta 1 shape:  (25, 401) \n",
      "Theta 2 shape:  (10, 26) \n",
      "Unrolled shape:  (10285,)\n"
     ]
    }
   ],
   "source": [
    "path2 = os.path.join(os.getcwd(), 'data', 'ex4weights.mat')\n",
    "weights = loadmat(path2)\n",
    "theta1 = weights['Theta1']\n",
    "theta2 = weights['Theta2']\n",
    "nn_params = np.r_[theta1.T.ravel(), theta2.T.ravel()]\n",
    "print('Theta 1 shape: ', theta1.shape, \n",
    "      '\\nTheta 2 shape: ', theta2.shape, \n",
    "      '\\nUnrolled shape: ', nn_params.shape)"
   ]
  },
  {
   "cell_type": "markdown",
   "metadata": {},
   "source": [
    "## Compute Cost (Feedforward)\n",
    "First, we define the cost function for the forward pass.\n",
    "\n",
    "Again we use the sigmoid activation function."
   ]
  },
  {
   "cell_type": "code",
   "execution_count": 4,
   "metadata": {},
   "outputs": [],
   "source": [
    "def sigmoid(z):\n",
    "    return 1 / (1 + np.exp(-z))"
   ]
  },
  {
   "cell_type": "markdown",
   "metadata": {},
   "source": [
    "First we need to implement the cost function for the feedforward part of the neural network, we can check this with the given expected values for the initial set of weights. The neural network cost function is given by:\n",
    "\n",
    "$$ J(\\theta) = \\frac{1}{m}\\sum_{i=1}^m\\sum_{k=1}^K\\bigg[-y_k^{(i)}\\text{log}(h_\\theta(x^{(i)})_k) - (1-y_k^{(i)})\\text{log}(1-h_\\theta(x^{(i)})_k)\\bigg]$$\n",
    "\n",
    "We can use a for loop over the training examples $m$."
   ]
  },
  {
   "cell_type": "code",
   "execution_count": 5,
   "metadata": {},
   "outputs": [],
   "source": [
    "def nnCostFunction(nn_params, input_layer_size, hidden_layer_size, num_labels, X, y, reg):\n",
    "    \n",
    "    # Reshape the parameters back into matrix form\n",
    "    theta1 = nn_params[0:(hidden_layer_size*(input_layer_size+1))].reshape(hidden_layer_size, input_layer_size+1, order='F')\n",
    "    theta2 = nn_params[(hidden_layer_size*(input_layer_size+1)):].reshape(num_labels, hidden_layer_size+1, order='F')\n",
    "    \n",
    "    m = X.shape[0]\n",
    "    J = 0\n",
    "    theta1_grad = np.zeros(theta1.shape)\n",
    "    theta2_grad = np.zeros(theta2.shape)\n",
    "    \n",
    "    # Convert labels to binary form\n",
    "    onehot_encoder = OneHotEncoder(sparse=False)\n",
    "    y_binary = onehot_encoder.fit_transform(y)\n",
    "    \n",
    "    # Compute forward pass\n",
    "    X = np.insert(X, 0, 1, axis=1)\n",
    "    a2 = sigmoid(X.dot(Theta1.T))\n",
    "    a2 = np.insert(a2, 0, 1, axis=1)\n",
    "    a3 = sigmoid(a2.dot(Theta2.T))\n",
    "    h = a3\n",
    "    \n",
    "    # Loop over training examples\n",
    "    for i in range(m):\n",
    "        first = - y_binary[i,:] * np.log(h[i,:])\n",
    "        second = (1 - y_binary[i,:]) * np.log(1 - h[i,:])\n",
    "        J += np.sum(first - second)\n",
    "    \n",
    "    return J / m"
   ]
  },
  {
   "cell_type": "markdown",
   "metadata": {},
   "source": [
    "Let's first test the cost function without regularisation and compare with the expected value."
   ]
  },
  {
   "cell_type": "code",
   "execution_count": 6,
   "metadata": {},
   "outputs": [
    {
     "name": "stdout",
     "output_type": "stream",
     "text": [
      "Cost:  0.2876291651613187 \n",
      "Expected Cost: 0.287629\n"
     ]
    }
   ],
   "source": [
    "cost = nnCostFunction(nn_params, input_layer_size, hidden_layer_size, num_labels, X, y, 0)\n",
    "print('Cost: ', cost, '\\nExpected Cost: 0.287629')"
   ]
  },
  {
   "cell_type": "markdown",
   "metadata": {},
   "source": [
    "Now let's add the regularisation term. The cost function with regularisation is given by:\n",
    "\n",
    "$$ J(\\theta) = \\frac{1}{m}\\sum_{i=1}^m\\sum_{k=1}^K\\bigg[-y_k^{(i)}\\text{log}(h_\\theta(x^{(i)})_k) - (1-y_k^{(i)})\\text{log}(1-h_\\theta(x^{(i)})_k)\\bigg] + \\frac{\\lambda}{2m}\\bigg[\\sum_{j=1}^{\\Theta^{(1)}_{rows}}\\sum_{k=1}^{\\Theta^{(1)}_{cols}}(\\Theta^{(1)}_{j,k})^2 + \\sum_{j=1}^{\\Theta^{(2)}_{rows}}\\sum_{k=1}^{\\Theta^{(2)}_{cols}}(\\Theta^{(2)}_{j,k})^2\\bigg]$$\n",
    "\n",
    "We must define code that generalises to any shape of hidden layers, input layers and class number. Note that we do not regularise the bias term so this should be removed from $\\theta_{1,2}$."
   ]
  },
  {
   "cell_type": "code",
   "execution_count": 7,
   "metadata": {},
   "outputs": [],
   "source": [
    "def nnCostFunctionReg(nn_params, input_layer_size, hidden_layer_size, num_labels, X, y, reg):\n",
    "    \n",
    "    # Reshape the parameters back into matrix form\n",
    "    theta1 = nn_params[0:(hidden_layer_size*(input_layer_size+1))].reshape(hidden_layer_size, input_layer_size+1, order='F')\n",
    "    theta2 = nn_params[(hidden_layer_size*(input_layer_size+1)):].reshape(num_labels, hidden_layer_size+1, order='F')\n",
    "    \n",
    "    m = X.shape[0]\n",
    "    J = 0\n",
    "    theta1_grad = np.zeros(theta1.shape)\n",
    "    theta2_grad = np.zeros(theta2.shape)\n",
    "    \n",
    "    # Convert labels to binary form\n",
    "    onehot_encoder = OneHotEncoder(sparse=False)\n",
    "    y_binary = onehot_encoder.fit_transform(y)\n",
    "    \n",
    "    # Compute forward pass\n",
    "    X = np.insert(X, 0, 1, axis=1)\n",
    "    a2 = sigmoid(X.dot(Theta1.T))\n",
    "    a2 = np.insert(a2, 0, 1, axis=1)\n",
    "    a3 = sigmoid(a2.dot(Theta2.T))\n",
    "    h = a3\n",
    "    \n",
    "    # Loop over training examples\n",
    "    for i in range(m):\n",
    "        first = - y_binary[i,:] * np.log(h[i,:])\n",
    "        second = (1 - y_binary[i,:]) * np.log(1 - h[i,:])\n",
    "        J += np.sum(first - second)\n",
    "        \n",
    "    reg_term = reg / (2 * m) * (np.sum(theta1[:,1:] ** 2) + np.sum(theta2[:,1:] ** 2))\n",
    "    \n",
    "    return J / m + reg_term"
   ]
  },
  {
   "cell_type": "markdown",
   "metadata": {},
   "source": [
    "Now, let's test the cost function with regularisation implemented against the expected value."
   ]
  },
  {
   "cell_type": "code",
   "execution_count": 8,
   "metadata": {},
   "outputs": [
    {
     "name": "stdout",
     "output_type": "stream",
     "text": [
      "Cost w/ reg:  0.3837698590909234 \n",
      "Expected Cost: 0.383770\n"
     ]
    }
   ],
   "source": [
    "reg = 1\n",
    "cost = nnCostFunctionReg(nn_params, input_layer_size, hidden_layer_size, num_labels, X, y, reg)\n",
    "print('Cost w/ reg: ', cost, '\\nExpected Cost: 0.383770')"
   ]
  },
  {
   "cell_type": "markdown",
   "metadata": {},
   "source": [
    "## Backpropagation\n",
    "First, we must implement the sigmoid gradient function given by:\n",
    "\n",
    "$$ \\frac{d}{dz}g(z) = g(z)(1 - g(z))$$"
   ]
  },
  {
   "cell_type": "code",
   "execution_count": 9,
   "metadata": {},
   "outputs": [],
   "source": [
    "def grad_sigmoid(z):\n",
    "    return sigmoid(z) * (1 - sigmoid(z))"
   ]
  },
  {
   "cell_type": "markdown",
   "metadata": {},
   "source": [
    "Next, we define a function to randomly initialise the weights $\\theta$ uniformly in the range $[-\\epsilon_{init}, \\epsilon_{init}]$, ensuring to add weights for the bias term."
   ]
  },
  {
   "cell_type": "code",
   "execution_count": 14,
   "metadata": {},
   "outputs": [
    {
     "name": "stdout",
     "output_type": "stream",
     "text": [
      "Initial Theta 1 shape:  (25, 401) \n",
      "Initial Theta 2 shape:  (10, 26) \n",
      "Unrolled shape:  (10285,)\n"
     ]
    }
   ],
   "source": [
    "def rand_initialise_weights(L_in, L_out, epsilon_init=0.12):\n",
    "    return 2 * epsilon_init * np.random.rand(L_out, 1 + L_in) - epsilon_init\n",
    "\n",
    "initial_theta1 = rand_initialise_weights(input_layer_size, hidden_layer_size)\n",
    "initial_theta2 = rand_initialise_weights(hidden_layer_size, num_labels)\n",
    "initial_nn_params = np.r_[initial_theta1.T.ravel(), initial_theta2.T.ravel()]\n",
    "print('Initial Theta 1 shape: ', initial_theta1.shape,\n",
    "      '\\nInitial Theta 2 shape: ', initial_theta2.shape,\n",
    "      '\\nUnrolled shape: ', initial_nn_params.shape)"
   ]
  },
  {
   "cell_type": "markdown",
   "metadata": {},
   "source": [
    "Great, these dimensions line up with the provided weights.\n",
    "\n",
    "Now we implement backpropagation."
   ]
  }
 ],
 "metadata": {
  "kernelspec": {
   "display_name": "Python 3",
   "language": "python",
   "name": "python3"
  },
  "language_info": {
   "codemirror_mode": {
    "name": "ipython",
    "version": 3
   },
   "file_extension": ".py",
   "mimetype": "text/x-python",
   "name": "python",
   "nbconvert_exporter": "python",
   "pygments_lexer": "ipython3",
   "version": "3.6.5"
  }
 },
 "nbformat": 4,
 "nbformat_minor": 2
}
