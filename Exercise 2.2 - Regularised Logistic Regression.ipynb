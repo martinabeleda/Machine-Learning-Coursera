{
 "cells": [
  {
   "cell_type": "markdown",
   "metadata": {},
   "source": [
    "# Exercise 2.2 - Regularised Logistic Regression\n",
    "This notebook covers my solutions to Andrew Ng's Machine Learning course Exercise 2 - Regularised Logistic Regression.\n",
    "\n",
    "We can regularization the logistic regression algorithm to reduce overfitting.\n",
    "\n",
    "Regularization maintains all the features but seeks to minimise the magitude of $\\theta_i$"
   ]
  },
  {
   "cell_type": "code",
   "execution_count": 1,
   "metadata": {},
   "outputs": [
    {
     "data": {
      "text/html": [
       "<div>\n",
       "<style scoped>\n",
       "    .dataframe tbody tr th:only-of-type {\n",
       "        vertical-align: middle;\n",
       "    }\n",
       "\n",
       "    .dataframe tbody tr th {\n",
       "        vertical-align: top;\n",
       "    }\n",
       "\n",
       "    .dataframe thead th {\n",
       "        text-align: right;\n",
       "    }\n",
       "</style>\n",
       "<table border=\"1\" class=\"dataframe\">\n",
       "  <thead>\n",
       "    <tr style=\"text-align: right;\">\n",
       "      <th></th>\n",
       "      <th>Microchip Test 1</th>\n",
       "      <th>Microchip Test 2</th>\n",
       "      <th>Accepted</th>\n",
       "    </tr>\n",
       "  </thead>\n",
       "  <tbody>\n",
       "    <tr>\n",
       "      <th>0</th>\n",
       "      <td>0.051267</td>\n",
       "      <td>0.69956</td>\n",
       "      <td>1</td>\n",
       "    </tr>\n",
       "    <tr>\n",
       "      <th>1</th>\n",
       "      <td>-0.092742</td>\n",
       "      <td>0.68494</td>\n",
       "      <td>1</td>\n",
       "    </tr>\n",
       "    <tr>\n",
       "      <th>2</th>\n",
       "      <td>-0.213710</td>\n",
       "      <td>0.69225</td>\n",
       "      <td>1</td>\n",
       "    </tr>\n",
       "    <tr>\n",
       "      <th>3</th>\n",
       "      <td>-0.375000</td>\n",
       "      <td>0.50219</td>\n",
       "      <td>1</td>\n",
       "    </tr>\n",
       "    <tr>\n",
       "      <th>4</th>\n",
       "      <td>-0.513250</td>\n",
       "      <td>0.46564</td>\n",
       "      <td>1</td>\n",
       "    </tr>\n",
       "  </tbody>\n",
       "</table>\n",
       "</div>"
      ],
      "text/plain": [
       "   Microchip Test 1  Microchip Test 2  Accepted\n",
       "0          0.051267           0.69956         1\n",
       "1         -0.092742           0.68494         1\n",
       "2         -0.213710           0.69225         1\n",
       "3         -0.375000           0.50219         1\n",
       "4         -0.513250           0.46564         1"
      ]
     },
     "execution_count": 1,
     "metadata": {},
     "output_type": "execute_result"
    }
   ],
   "source": [
    "import numpy as np\n",
    "import pandas as pd\n",
    "import matplotlib.pyplot as plt\n",
    "import os\n",
    "import scipy.optimize as opt\n",
    "\n",
    "from sklearn.preprocessing import PolynomialFeatures\n",
    "\n",
    "# Load and examine data\n",
    "path = os.path.join(os.getcwd(), 'data', 'ex2data2.txt')\n",
    "data = pd.read_csv(path, header=None, names=['Microchip Test 1','Microchip Test 2','Accepted'])\n",
    "data.head()"
   ]
  },
  {
   "cell_type": "code",
   "execution_count": 2,
   "metadata": {},
   "outputs": [
    {
     "data": {
      "text/html": [
       "<div>\n",
       "<style scoped>\n",
       "    .dataframe tbody tr th:only-of-type {\n",
       "        vertical-align: middle;\n",
       "    }\n",
       "\n",
       "    .dataframe tbody tr th {\n",
       "        vertical-align: top;\n",
       "    }\n",
       "\n",
       "    .dataframe thead th {\n",
       "        text-align: right;\n",
       "    }\n",
       "</style>\n",
       "<table border=\"1\" class=\"dataframe\">\n",
       "  <thead>\n",
       "    <tr style=\"text-align: right;\">\n",
       "      <th></th>\n",
       "      <th>Microchip Test 1</th>\n",
       "      <th>Microchip Test 2</th>\n",
       "      <th>Accepted</th>\n",
       "    </tr>\n",
       "  </thead>\n",
       "  <tbody>\n",
       "    <tr>\n",
       "      <th>count</th>\n",
       "      <td>118.000000</td>\n",
       "      <td>118.000000</td>\n",
       "      <td>118.000000</td>\n",
       "    </tr>\n",
       "    <tr>\n",
       "      <th>mean</th>\n",
       "      <td>0.054779</td>\n",
       "      <td>0.183102</td>\n",
       "      <td>0.491525</td>\n",
       "    </tr>\n",
       "    <tr>\n",
       "      <th>std</th>\n",
       "      <td>0.496654</td>\n",
       "      <td>0.519743</td>\n",
       "      <td>0.502060</td>\n",
       "    </tr>\n",
       "    <tr>\n",
       "      <th>min</th>\n",
       "      <td>-0.830070</td>\n",
       "      <td>-0.769740</td>\n",
       "      <td>0.000000</td>\n",
       "    </tr>\n",
       "    <tr>\n",
       "      <th>25%</th>\n",
       "      <td>-0.372120</td>\n",
       "      <td>-0.254385</td>\n",
       "      <td>0.000000</td>\n",
       "    </tr>\n",
       "    <tr>\n",
       "      <th>50%</th>\n",
       "      <td>-0.006336</td>\n",
       "      <td>0.213455</td>\n",
       "      <td>0.000000</td>\n",
       "    </tr>\n",
       "    <tr>\n",
       "      <th>75%</th>\n",
       "      <td>0.478970</td>\n",
       "      <td>0.646562</td>\n",
       "      <td>1.000000</td>\n",
       "    </tr>\n",
       "    <tr>\n",
       "      <th>max</th>\n",
       "      <td>1.070900</td>\n",
       "      <td>1.108900</td>\n",
       "      <td>1.000000</td>\n",
       "    </tr>\n",
       "  </tbody>\n",
       "</table>\n",
       "</div>"
      ],
      "text/plain": [
       "       Microchip Test 1  Microchip Test 2    Accepted\n",
       "count        118.000000        118.000000  118.000000\n",
       "mean           0.054779          0.183102    0.491525\n",
       "std            0.496654          0.519743    0.502060\n",
       "min           -0.830070         -0.769740    0.000000\n",
       "25%           -0.372120         -0.254385    0.000000\n",
       "50%           -0.006336          0.213455    0.000000\n",
       "75%            0.478970          0.646562    1.000000\n",
       "max            1.070900          1.108900    1.000000"
      ]
     },
     "execution_count": 2,
     "metadata": {},
     "output_type": "execute_result"
    }
   ],
   "source": [
    "data.describe()"
   ]
  },
  {
   "cell_type": "markdown",
   "metadata": {},
   "source": [
    "Now let's visualise the data"
   ]
  },
  {
   "cell_type": "code",
   "execution_count": 3,
   "metadata": {},
   "outputs": [
    {
     "data": {
      "image/png": "[encoded data removed]",
      "text/plain": [
       "<Figure size 720x720 with 1 Axes>"
      ]
     },
     "metadata": {},
     "output_type": "display_data"
    }
   ],
   "source": [
    "plt.figure(figsize=(10, 10))\n",
    "plt.plot(data.loc[data['Accepted'] == 1, 'Microchip Test 1'],\n",
    "         data.loc[data['Accepted'] == 1, 'Microchip Test 2'],\n",
    "         'k+', label='y=1')\n",
    "plt.plot(data.loc[data['Accepted'] == 0, 'Microchip Test 1'],\n",
    "         data.loc[data['Accepted'] == 0, 'Microchip Test 2'],\n",
    "         'yo', label='y=0')\n",
    "plt.legend(loc='upper right', shadow=True)\n",
    "plt.title('Plot of training data for microchip fabrication')\n",
    "plt.xlabel('Microchip Test 1')\n",
    "plt.ylabel('Microchip Test 2')\n",
    "plt.show()"
   ]
  },
  {
   "cell_type": "markdown",
   "metadata": {},
   "source": [
    "In the figure above, we can see that the dataset cannot be separated simply using a linear decision boundary. Therefore, we need a more complex application of logistic regression."
   ]
  },
  {
   "cell_type": "markdown",
   "metadata": {},
   "source": [
    "## Feature Mapping\n",
    "We can improve the fit whilst still using logistic regression by creating more features from each data points. We map the features into polynomial terms of $x_1$ and $x_2$ up to the sixth order."
   ]
  },
  {
   "cell_type": "code",
   "execution_count": 4,
   "metadata": {},
   "outputs": [
    {
     "data": {
      "text/plain": [
       "((118, 28), (28,), (118, 1))"
      ]
     },
     "execution_count": 4,
     "metadata": {},
     "output_type": "execute_result"
    }
   ],
   "source": [
    "m, n = data.shape\n",
    "poly = PolynomialFeatures(degree=6)\n",
    "X = np.matrix(poly.fit_transform(np.array(data)[:, 0:2]))\n",
    "y = np.matrix(data.iloc[:,(n-1)]).T\n",
    "theta = np.zeros(X.shape[1])\n",
    "\n",
    "X.shape, theta.shape, y.shape"
   ]
  },
  {
   "cell_type": "markdown",
   "metadata": {},
   "source": [
    "## Cost Function and Gradient\n",
    "The regularised cost function in logistic regression is given by:\n",
    "\n",
    "$$ J(\\theta) = \\frac{1}{m}\\sum_{i=1}^m[-y^{(i)}\\text{log}(h_\\theta(x^{(i)})) - (1-y^{(i)})\\text{log}(1-h_\\theta(x^{(i)}))] + \\frac{\\lambda}{2m}\\sum_{j=1}^n\\theta_j^2$$"
   ]
  },
  {
   "cell_type": "code",
   "execution_count": 5,
   "metadata": {},
   "outputs": [],
   "source": [
    "def costFunctionReg(theta, X, y, lambd):\n",
    "    \"\"\" Compute the cost for regularised logistic regression \"\"\"\n",
    "    \n",
    "    # Compute cost\n",
    "    m = y.size\n",
    "    n = theta.size\n",
    "    theta = np.matrix(theta)\n",
    "    first = np.multiply(-y, np.log(sigmoid(X * theta.T))) \n",
    "    second = np.multiply((1 - y), np.log(1 - sigmoid(X * theta.T)))\n",
    "    reg = (lambd/2*m) * np.sum(theta[:, 1:n])\n",
    "    J = (np.sum(first - second) / m) + reg\n",
    "    \n",
    "    return J"
   ]
  },
  {
   "cell_type": "markdown",
   "metadata": {},
   "source": [
    "The regularised gradient is given by:\n",
    "\n",
    "$$\\frac{\\partial J(\\theta)}{\\partial \\theta_j} = \\frac{1}{m}\\sum_{i=1}^m(h_\\theta(x^{(i)}) - y^{(i)})x_j^{(i)} + \\frac{\\lambda}{m}\\theta_j $$\n",
    "\n",
    "for $j \\geq 1$"
   ]
  },
  {
   "cell_type": "code",
   "execution_count": 6,
   "metadata": {},
   "outputs": [],
   "source": [
    "def gradientReg(theta, X, y, lambd):\n",
    "    \"Compute the gradient for a single step of regularised logistic regression\"\n",
    "    \n",
    "    m = y.size\n",
    "    n = theta.size\n",
    "    theta = np.matrix(theta)\n",
    "    grad = np.zeros(n)\n",
    "    \n",
    "    error = sigmoid(X * theta.T) - y\n",
    "    \n",
    "    # Compute gradient in each dimension\n",
    "    for j in range(n):\n",
    "        grad[j] = np.sum(np.multiply(error, X[:,j])) / m\n",
    "        if j > 0:\n",
    "            grad[j] += (lambd/m)*theta[0,j]\n",
    "        \n",
    "    return grad"
   ]
  },
  {
   "cell_type": "markdown",
   "metadata": {},
   "source": [
    "Testing the cost function on the initial guess:"
   ]
  },
  {
   "cell_type": "code",
   "execution_count": 7,
   "metadata": {},
   "outputs": [
    {
     "data": {
      "text/plain": [
       "0.6931471805599454"
      ]
     },
     "execution_count": 7,
     "metadata": {},
     "output_type": "execute_result"
    }
   ],
   "source": [
    "def sigmoid(z):\n",
    "    \"\"\" Performs the sigmoid function element-wise over the matrix z \"\"\"\n",
    "    \n",
    "    return 1 / (1 + np.exp(-z))\n",
    "\n",
    "learning_rate = 1\n",
    "\n",
    "costFunctionReg(theta, X, y, learning_rate)"
   ]
  },
  {
   "cell_type": "markdown",
   "metadata": {},
   "source": [
    "Now, let's learn the parameters as in the previous part"
   ]
  },
  {
   "cell_type": "code",
   "execution_count": 8,
   "metadata": {},
   "outputs": [
    {
     "name": "stdout",
     "output_type": "stream",
     "text": [
      "[ 1.27422021  0.62478651  1.18590384 -2.02173842 -0.91708237 -1.41319146\n",
      "  0.12444367 -0.36770519 -0.36458182 -0.18067791 -1.46506506 -0.06288698\n",
      " -0.61999792 -0.27174436 -1.20129286 -0.23663765 -0.20901441 -0.05490414\n",
      " -0.27804408 -0.29276911 -0.46790781 -1.04396479  0.02082842 -0.29638539\n",
      "  0.00961556 -0.32917181 -0.1380421  -0.93550842]\n"
     ]
    }
   ],
   "source": [
    "result = opt.fmin_tnc(func=costFunctionReg, x0=theta, fprime=gradientReg, args=(X, y, learning_rate))\n",
    "print(result[0])"
   ]
  },
  {
   "cell_type": "markdown",
   "metadata": {},
   "source": [
    "Making predictions in the same way as Ex 2.1"
   ]
  },
  {
   "cell_type": "code",
   "execution_count": 9,
   "metadata": {},
   "outputs": [
    {
     "name": "stdout",
     "output_type": "stream",
     "text": [
      "accuracy =  83.05084745762711 %\n"
     ]
    }
   ],
   "source": [
    "def predict(theta, X):\n",
    "    \"\"\"Use the sigmoid function to predict the probability of each class and return class\"\"\"\n",
    "    theta = np.matrix(theta)\n",
    "    probabilities = sigmoid(X * theta.T)\n",
    "    return [1 if x >= 0.5 else 0 for x in probabilities]\n",
    "\n",
    "predictions = predict(result[0], X)\n",
    "correct = [1 if a == b else 0 for (a, b) in zip(predictions, y)]  \n",
    "accuracy = sum(correct)*100 / len(correct)  \n",
    "print('accuracy = ', accuracy, '%')"
   ]
  },
  {
   "cell_type": "markdown",
   "metadata": {},
   "source": [
    "Now let's plot the decision boundary"
   ]
  },
  {
   "cell_type": "code",
   "execution_count": 10,
   "metadata": {},
   "outputs": [
    {
     "data": {
      "image/png": "[encoded data removed]",
      "text/plain": [
       "<Figure size 720x720 with 1 Axes>"
      ]
     },
     "metadata": {},
     "output_type": "display_data"
    }
   ],
   "source": [
    "# Plot data\n",
    "plt.figure(figsize=(10, 10))\n",
    "plt.plot(data.loc[data['Accepted'] == 1, 'Microchip Test 1'],\n",
    "         data.loc[data['Accepted'] == 1, 'Microchip Test 2'],\n",
    "         'k+', label='y=1')\n",
    "plt.plot(data.loc[data['Accepted'] == 0, 'Microchip Test 1'],\n",
    "         data.loc[data['Accepted'] == 0, 'Microchip Test 2'],\n",
    "         'yo', label='y=0')\n",
    "plt.legend(loc='upper right', shadow=True)\n",
    "plt.title('Decision Boundary with Lambda = {}'.format(learning_rate))\n",
    "plt.xlabel('Microchip Test 1')\n",
    "plt.ylabel('Microchip Test 2')\n",
    "\n",
    "# Plot decision boundary\n",
    "xs = np.linspace(np.min(X[:,1]), np.max(X[:,1]), num=500)\n",
    "ys = np.linspace(np.min(X[:,2]), np.max(X[:,2]), num=500)\n",
    "xx, yy = np.meshgrid(xs, ys)\n",
    "z = np.array(predict(result[0], poly.fit_transform(np.c_[xx.ravel(), yy.ravel()])))\n",
    "z = z.reshape(xx.shape)\n",
    "plt.contour(xx, yy, z, [0.5], linewidths=1, colors='b', antialiased=True)\n",
    "\n",
    "plt.show()"
   ]
  }
 ],
 "metadata": {
  "kernelspec": {
   "display_name": "Python 3",
   "language": "python",
   "name": "python3"
  },
  "language_info": {
   "codemirror_mode": {
    "name": "ipython",
    "version": 3
   },
   "file_extension": ".py",
   "mimetype": "text/x-python",
   "name": "python",
   "nbconvert_exporter": "python",
   "pygments_lexer": "ipython3",
   "version": "3.6.5"
  }
 },
 "nbformat": 4,
 "nbformat_minor": 2
}
