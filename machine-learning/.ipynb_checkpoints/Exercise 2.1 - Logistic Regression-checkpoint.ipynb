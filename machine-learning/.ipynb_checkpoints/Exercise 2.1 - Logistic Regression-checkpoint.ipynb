{
 "cells": [
  {
   "cell_type": "markdown",
   "metadata": {},
   "source": [
    "# Exercise 2.1 - Logistic Regression\n",
    "This notebook covers my solutions to Andrew Ng's Machine Learning course Exercise 2 - Logistic Regression.\n",
    "\n",
    "In this exercise, logistic regression is used to predict the probability of university admission based on two exam scores.\n",
    "\n",
    "I'll start with importing the data."
   ]
  },
  {
   "cell_type": "code",
   "execution_count": 6,
   "metadata": {},
   "outputs": [
    {
     "data": {
      "text/html": [
       "<div>\n",
       "<style scoped>\n",
       "    .dataframe tbody tr th:only-of-type {\n",
       "        vertical-align: middle;\n",
       "    }\n",
       "\n",
       "    .dataframe tbody tr th {\n",
       "        vertical-align: top;\n",
       "    }\n",
       "\n",
       "    .dataframe thead th {\n",
       "        text-align: right;\n",
       "    }\n",
       "</style>\n",
       "<table border=\"1\" class=\"dataframe\">\n",
       "  <thead>\n",
       "    <tr style=\"text-align: right;\">\n",
       "      <th></th>\n",
       "      <th>Exam 1 Score</th>\n",
       "      <th>Exam 2 Score</th>\n",
       "      <th>Admitted</th>\n",
       "    </tr>\n",
       "  </thead>\n",
       "  <tbody>\n",
       "    <tr>\n",
       "      <th>0</th>\n",
       "      <td>34.623660</td>\n",
       "      <td>78.024693</td>\n",
       "      <td>0</td>\n",
       "    </tr>\n",
       "    <tr>\n",
       "      <th>1</th>\n",
       "      <td>30.286711</td>\n",
       "      <td>43.894998</td>\n",
       "      <td>0</td>\n",
       "    </tr>\n",
       "    <tr>\n",
       "      <th>2</th>\n",
       "      <td>35.847409</td>\n",
       "      <td>72.902198</td>\n",
       "      <td>0</td>\n",
       "    </tr>\n",
       "    <tr>\n",
       "      <th>3</th>\n",
       "      <td>60.182599</td>\n",
       "      <td>86.308552</td>\n",
       "      <td>1</td>\n",
       "    </tr>\n",
       "    <tr>\n",
       "      <th>4</th>\n",
       "      <td>79.032736</td>\n",
       "      <td>75.344376</td>\n",
       "      <td>1</td>\n",
       "    </tr>\n",
       "  </tbody>\n",
       "</table>\n",
       "</div>"
      ],
      "text/plain": [
       "   Exam 1 Score  Exam 2 Score  Admitted\n",
       "0     34.623660     78.024693         0\n",
       "1     30.286711     43.894998         0\n",
       "2     35.847409     72.902198         0\n",
       "3     60.182599     86.308552         1\n",
       "4     79.032736     75.344376         1"
      ]
     },
     "execution_count": 6,
     "metadata": {},
     "output_type": "execute_result"
    }
   ],
   "source": [
    "import numpy as np\n",
    "import pandas as pd\n",
    "import matplotlib.pyplot as plt\n",
    "import os\n",
    "\n",
    "# Load and examine data\n",
    "path = os.path.join(os.getcwd(), 'data', 'ex2data1.txt')\n",
    "data = pd.read_csv(path, header=None, names=['Exam 1 Score','Exam 2 Score','Admitted'])\n",
    "data.head()"
   ]
  },
  {
   "cell_type": "markdown",
   "metadata": {},
   "source": [
    "## Visualising\n",
    "Now, I plot the data with the exam scores on the x and y axes displaying markers for successful and non successful admittance."
   ]
  },
  {
   "cell_type": "code",
   "execution_count": 19,
   "metadata": {},
   "outputs": [
    {
     "data": {
      "image/png": "[encoded data removed]",
      "text/plain": [
       "<matplotlib.figure.Figure at 0x7fd550b6c198>"
      ]
     },
     "metadata": {},
     "output_type": "display_data"
    }
   ],
   "source": [
    "plt.figure(figsize=(10,10))\n",
    "plt.plot(data.loc[data['Admitted'] == 1, 'Exam 1 Score'], \n",
    "         data.loc[data['Admitted'] == 1, 'Exam 2 Score'], \n",
    "         'b+', label='Admitted')\n",
    "plt.plot(data.loc[data['Admitted'] == 0, 'Exam 1 Score'], \n",
    "         data.loc[data['Admitted'] == 0, 'Exam 2 Score'], \n",
    "         'yo', label='Not Admitted')\n",
    "plt.legend(loc='upper right', shadow=True)\n",
    "plt.title('Scatter plot of university admission by exam score')\n",
    "plt.xlabel('Exam 1 Score')\n",
    "plt.ylabel('Exam 2 Score')\n",
    "plt.show()"
   ]
  },
  {
   "cell_type": "markdown",
   "metadata": {},
   "source": [
    "Now, let's separate the data into the $X$ and $y$ matrices, adding the column of ones for $\\theta_0$"
   ]
  },
  {
   "cell_type": "code",
   "execution_count": 31,
   "metadata": {},
   "outputs": [],
   "source": [
    "# Separate the feature set from the result parameter\n",
    "m, n = data.shape\n",
    "X = np.matrix(data.iloc[:,0:(n-1)])\n",
    "X = np.concatenate((np.ones((m, 1)), X), axis=1)\n",
    "y = np.matrix(data.iloc[:,(n-1)]).T"
   ]
  },
  {
   "cell_type": "markdown",
   "metadata": {},
   "source": [
    "## Sigmoid Function\n",
    "The hypothesis for a logistic regression learning algorithm is defined as:\n",
    "\n",
    "$$ h_\\theta(x) = g(\\theta^Tx) $$\n",
    "\n",
    "Where $g(z)$ is the sigmoid function:\n",
    "\n",
    "$$ g(z) = \\frac{1}{1 + e^{-z}} $$"
   ]
  },
  {
   "cell_type": "code",
   "execution_count": 23,
   "metadata": {},
   "outputs": [],
   "source": [
    "def sigmoid(z):\n",
    "    \"\"\" Performs the sigmoid function element-wise over the matrix z \"\"\"\n",
    "    \n",
    "    return 1/(1+np.exp(-z))"
   ]
  },
  {
   "cell_type": "markdown",
   "metadata": {},
   "source": [
    "Test the sigmoid function with an array of linearly spaced values centred around $0$"
   ]
  },
  {
   "cell_type": "code",
   "execution_count": 30,
   "metadata": {},
   "outputs": [
    {
     "data": {
      "image/png": "[encoded data removed]",
      "text/plain": [
       "<matplotlib.figure.Figure at 0x7fd550815a90>"
      ]
     },
     "metadata": {},
     "output_type": "display_data"
    }
   ],
   "source": [
    "xvals = np.linspace(-10.0, 10.0, num = 50)\n",
    "yvals = sigmoid(xvals)\n",
    "plt.figure(figsize=(10,7))\n",
    "plt.plot(xvals, yvals, 'b-')\n",
    "plt.title('Sigmoid function plot')\n",
    "plt.xlabel('x')\n",
    "plt.ylabel('y')\n",
    "plt.show()"
   ]
  },
  {
   "cell_type": "markdown",
   "metadata": {},
   "source": [
    "The sigmoid function above approaches $1$ for large positive $x$ and approaches $0$ for large negative $x$ as expected. When $x = 0$, the sigmoid function is $0.5$\n",
    "\n",
    "## Cost Function and Gradient\n",
    "Now we implement the cost function and gradient for logistic regression.\n",
    "\n",
    "The cost function is defined as:\n",
    "\n",
    "$$ J(\\theta) = \\frac{1}{m}\\sum_{i=1}^m[-y^{(i)}\\text{log}(h_\\theta(x^{(i)})) - (1-y^{(i)})\\text{log}(1-h_\\theta(x^{(i)}))] $$\n"
   ]
  },
  {
   "cell_type": "code",
   "execution_count": null,
   "metadata": {},
   "outputs": [],
   "source": [
    "def costFunction(theta, X, y):\n",
    "    \"\"\" Compute the cost and gradient for logistic regression \"\"\"\n",
    "    \n",
    "    # Initialise some values\n",
    "    m = y.size\n",
    "    J = 0\n",
    "    grad = np.zeros(theta.size)\n",
    "    \n",
    "    \n",
    "    \n",
    "    return J, grad"
   ]
  }
 ],
 "metadata": {
  "kernelspec": {
   "display_name": "Python 3",
   "language": "python",
   "name": "python3"
  },
  "language_info": {
   "codemirror_mode": {
    "name": "ipython",
    "version": 3
   },
   "file_extension": ".py",
   "mimetype": "text/x-python",
   "name": "python",
   "nbconvert_exporter": "python",
   "pygments_lexer": "ipython3",
   "version": "3.6.3"
  }
 },
 "nbformat": 4,
 "nbformat_minor": 2
}
