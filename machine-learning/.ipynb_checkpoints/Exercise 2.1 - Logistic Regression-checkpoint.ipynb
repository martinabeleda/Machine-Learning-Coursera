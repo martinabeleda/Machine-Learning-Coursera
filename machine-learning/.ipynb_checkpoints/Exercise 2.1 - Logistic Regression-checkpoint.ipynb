{
 "cells": [
  {
   "cell_type": "markdown",
   "metadata": {},
   "source": [
    "# Exercise 2.1 - Logistic Regression\n",
    "This notebook covers my solutions to Andrew Ng's Machine Learning course Exercise 2 - Logistic Regression.\n",
    "\n",
    "In this exercise, logistic regression is used to predict the probability of university admission based on two exam scores.\n",
    "\n",
    "I'll start with importing the data."
   ]
  },
  {
   "cell_type": "code",
   "execution_count": 1,
   "metadata": {},
   "outputs": [
    {
     "data": {
      "text/html": [
       "<div>\n",
       "<style scoped>\n",
       "    .dataframe tbody tr th:only-of-type {\n",
       "        vertical-align: middle;\n",
       "    }\n",
       "\n",
       "    .dataframe tbody tr th {\n",
       "        vertical-align: top;\n",
       "    }\n",
       "\n",
       "    .dataframe thead th {\n",
       "        text-align: right;\n",
       "    }\n",
       "</style>\n",
       "<table border=\"1\" class=\"dataframe\">\n",
       "  <thead>\n",
       "    <tr style=\"text-align: right;\">\n",
       "      <th></th>\n",
       "      <th>Exam 1 Score</th>\n",
       "      <th>Exam 2 Score</th>\n",
       "      <th>Admitted</th>\n",
       "    </tr>\n",
       "  </thead>\n",
       "  <tbody>\n",
       "    <tr>\n",
       "      <th>0</th>\n",
       "      <td>34.623660</td>\n",
       "      <td>78.024693</td>\n",
       "      <td>0</td>\n",
       "    </tr>\n",
       "    <tr>\n",
       "      <th>1</th>\n",
       "      <td>30.286711</td>\n",
       "      <td>43.894998</td>\n",
       "      <td>0</td>\n",
       "    </tr>\n",
       "    <tr>\n",
       "      <th>2</th>\n",
       "      <td>35.847409</td>\n",
       "      <td>72.902198</td>\n",
       "      <td>0</td>\n",
       "    </tr>\n",
       "    <tr>\n",
       "      <th>3</th>\n",
       "      <td>60.182599</td>\n",
       "      <td>86.308552</td>\n",
       "      <td>1</td>\n",
       "    </tr>\n",
       "    <tr>\n",
       "      <th>4</th>\n",
       "      <td>79.032736</td>\n",
       "      <td>75.344376</td>\n",
       "      <td>1</td>\n",
       "    </tr>\n",
       "  </tbody>\n",
       "</table>\n",
       "</div>"
      ],
      "text/plain": [
       "   Exam 1 Score  Exam 2 Score  Admitted\n",
       "0     34.623660     78.024693         0\n",
       "1     30.286711     43.894998         0\n",
       "2     35.847409     72.902198         0\n",
       "3     60.182599     86.308552         1\n",
       "4     79.032736     75.344376         1"
      ]
     },
     "execution_count": 1,
     "metadata": {},
     "output_type": "execute_result"
    }
   ],
   "source": [
    "import numpy as np\n",
    "import pandas as pd\n",
    "import matplotlib.pyplot as plt\n",
    "import os\n",
    "import scipy.optimize as opt\n",
    "\n",
    "# Load and examine data\n",
    "path = os.path.join(os.getcwd(), 'data', 'ex2data1.txt')\n",
    "data = pd.read_csv(path, header=None, names=['Exam 1 Score','Exam 2 Score','Admitted'])\n",
    "data.head()"
   ]
  },
  {
   "cell_type": "code",
   "execution_count": 2,
   "metadata": {},
   "outputs": [
    {
     "data": {
      "text/html": [
       "<div>\n",
       "<style scoped>\n",
       "    .dataframe tbody tr th:only-of-type {\n",
       "        vertical-align: middle;\n",
       "    }\n",
       "\n",
       "    .dataframe tbody tr th {\n",
       "        vertical-align: top;\n",
       "    }\n",
       "\n",
       "    .dataframe thead th {\n",
       "        text-align: right;\n",
       "    }\n",
       "</style>\n",
       "<table border=\"1\" class=\"dataframe\">\n",
       "  <thead>\n",
       "    <tr style=\"text-align: right;\">\n",
       "      <th></th>\n",
       "      <th>Exam 1 Score</th>\n",
       "      <th>Exam 2 Score</th>\n",
       "      <th>Admitted</th>\n",
       "    </tr>\n",
       "  </thead>\n",
       "  <tbody>\n",
       "    <tr>\n",
       "      <th>count</th>\n",
       "      <td>100.000000</td>\n",
       "      <td>100.000000</td>\n",
       "      <td>100.000000</td>\n",
       "    </tr>\n",
       "    <tr>\n",
       "      <th>mean</th>\n",
       "      <td>65.644274</td>\n",
       "      <td>66.221998</td>\n",
       "      <td>0.600000</td>\n",
       "    </tr>\n",
       "    <tr>\n",
       "      <th>std</th>\n",
       "      <td>19.458222</td>\n",
       "      <td>18.582783</td>\n",
       "      <td>0.492366</td>\n",
       "    </tr>\n",
       "    <tr>\n",
       "      <th>min</th>\n",
       "      <td>30.058822</td>\n",
       "      <td>30.603263</td>\n",
       "      <td>0.000000</td>\n",
       "    </tr>\n",
       "    <tr>\n",
       "      <th>25%</th>\n",
       "      <td>50.919511</td>\n",
       "      <td>48.179205</td>\n",
       "      <td>0.000000</td>\n",
       "    </tr>\n",
       "    <tr>\n",
       "      <th>50%</th>\n",
       "      <td>67.032988</td>\n",
       "      <td>67.682381</td>\n",
       "      <td>1.000000</td>\n",
       "    </tr>\n",
       "    <tr>\n",
       "      <th>75%</th>\n",
       "      <td>80.212529</td>\n",
       "      <td>79.360605</td>\n",
       "      <td>1.000000</td>\n",
       "    </tr>\n",
       "    <tr>\n",
       "      <th>max</th>\n",
       "      <td>99.827858</td>\n",
       "      <td>98.869436</td>\n",
       "      <td>1.000000</td>\n",
       "    </tr>\n",
       "  </tbody>\n",
       "</table>\n",
       "</div>"
      ],
      "text/plain": [
       "       Exam 1 Score  Exam 2 Score    Admitted\n",
       "count    100.000000    100.000000  100.000000\n",
       "mean      65.644274     66.221998    0.600000\n",
       "std       19.458222     18.582783    0.492366\n",
       "min       30.058822     30.603263    0.000000\n",
       "25%       50.919511     48.179205    0.000000\n",
       "50%       67.032988     67.682381    1.000000\n",
       "75%       80.212529     79.360605    1.000000\n",
       "max       99.827858     98.869436    1.000000"
      ]
     },
     "execution_count": 2,
     "metadata": {},
     "output_type": "execute_result"
    }
   ],
   "source": [
    "data.describe()"
   ]
  },
  {
   "cell_type": "markdown",
   "metadata": {},
   "source": [
    "## Visualising\n",
    "Now, I plot the data with the exam scores on the x and y axes displaying markers for successful and non successful admittance."
   ]
  },
  {
   "cell_type": "code",
   "execution_count": 3,
   "metadata": {},
   "outputs": [
    {
     "data": {
      "image/png": "[encoded data removed]",
      "text/plain": [
       "<Figure size 720x720 with 1 Axes>"
      ]
     },
     "metadata": {},
     "output_type": "display_data"
    }
   ],
   "source": [
    "plt.figure(figsize=(10,10))\n",
    "plt.plot(data.loc[data['Admitted'] == 1, 'Exam 1 Score'], \n",
    "         data.loc[data['Admitted'] == 1, 'Exam 2 Score'], \n",
    "         'k+', label='Admitted')\n",
    "plt.plot(data.loc[data['Admitted'] == 0, 'Exam 1 Score'], \n",
    "         data.loc[data['Admitted'] == 0, 'Exam 2 Score'], \n",
    "         'yo', label='Not Admitted')\n",
    "plt.legend(loc='upper right', shadow=True)\n",
    "plt.title('Scatter plot of university admission by exam score')\n",
    "plt.xlabel('Exam 1 Score')\n",
    "plt.ylabel('Exam 2 Score')\n",
    "plt.show()"
   ]
  },
  {
   "cell_type": "markdown",
   "metadata": {},
   "source": [
    "Now, let's separate the data into the $X$ and $y$ matrices, adding the column of ones for $\\theta_0$"
   ]
  },
  {
   "cell_type": "code",
   "execution_count": 4,
   "metadata": {},
   "outputs": [
    {
     "data": {
      "text/plain": [
       "((100, 3), (3,), (100, 1))"
      ]
     },
     "execution_count": 4,
     "metadata": {},
     "output_type": "execute_result"
    }
   ],
   "source": [
    "# Separate the feature set from the result parameter\n",
    "m, n = data.shape\n",
    "X = np.matrix(data.iloc[:,0:(n-1)])\n",
    "X = np.concatenate((np.ones((m, 1)), X), axis=1)\n",
    "y = np.matrix(data.iloc[:,(n-1)]).T\n",
    "\n",
    "theta = np.zeros(3)\n",
    "\n",
    "# Check the matrix dimensions\n",
    "X.shape, theta.shape, y.shape"
   ]
  },
  {
   "cell_type": "markdown",
   "metadata": {},
   "source": [
    "## Sigmoid Function\n",
    "The hypothesis for a logistic regression learning algorithm is defined as:\n",
    "\n",
    "$$ h_\\theta(x) = g(\\theta^Tx) $$\n",
    "\n",
    "Where $g(z)$ is the sigmoid function:\n",
    "\n",
    "$$ g(z) = \\frac{1}{1 + e^{-z}} $$"
   ]
  },
  {
   "cell_type": "code",
   "execution_count": 5,
   "metadata": {},
   "outputs": [],
   "source": [
    "def sigmoid(z):\n",
    "    \"\"\" Performs the sigmoid function element-wise over the matrix z \"\"\"\n",
    "    \n",
    "    return 1 / (1 + np.exp(-z))"
   ]
  },
  {
   "cell_type": "markdown",
   "metadata": {},
   "source": [
    "Test the sigmoid function with an array of linearly spaced values centred around $0$"
   ]
  },
  {
   "cell_type": "code",
   "execution_count": 6,
   "metadata": {},
   "outputs": [
    {
     "data": {
      "image/png": "[encoded data removed]",
      "text/plain": [
       "<Figure size 720x504 with 1 Axes>"
      ]
     },
     "metadata": {},
     "output_type": "display_data"
    }
   ],
   "source": [
    "xvals = np.linspace(-10.0, 10.0, num = 50)\n",
    "yvals = sigmoid(xvals)\n",
    "plt.figure(figsize=(10,7))\n",
    "plt.plot(xvals, yvals, 'b-')\n",
    "plt.title('Sigmoid function plot')\n",
    "plt.xlabel('x')\n",
    "plt.ylabel('y')\n",
    "plt.show()"
   ]
  },
  {
   "cell_type": "markdown",
   "metadata": {},
   "source": [
    "The sigmoid function above approaches $1$ for large positive $x$ and approaches $0$ for large negative $x$ as expected. When $x = 0$, the sigmoid function is $0.5$\n",
    "\n",
    "## Cost Function and Gradient\n",
    "Now we implement the cost function and gradient for logistic regression.\n",
    "\n",
    "The cost function is defined as:\n",
    "\n",
    "$$ J(\\theta) = \\frac{1}{m}\\sum_{i=1}^m[-y^{(i)}\\text{log}(h_\\theta(x^{(i)})) - (1-y^{(i)})\\text{log}(1-h_\\theta(x^{(i)}))] $$\n"
   ]
  },
  {
   "cell_type": "code",
   "execution_count": 7,
   "metadata": {},
   "outputs": [],
   "source": [
    "def costFunction(theta, X, y):\n",
    "    \"\"\" Compute the cost for logistic regression \"\"\"\n",
    "    \n",
    "    # Compute cost\n",
    "    m = y.size\n",
    "    theta = np.matrix(theta)\n",
    "    inner = np.multiply(-y, np.log(sigmoid(X * theta.T))) - np.multiply((1 - y), np.log(1 - sigmoid(X * theta.T)))\n",
    "    J = np.sum(inner) / m\n",
    "    \n",
    "    return J"
   ]
  },
  {
   "cell_type": "markdown",
   "metadata": {},
   "source": [
    "Now let's test the cost function with the initial $\\theta$ guess"
   ]
  },
  {
   "cell_type": "code",
   "execution_count": 8,
   "metadata": {},
   "outputs": [
    {
     "data": {
      "text/plain": [
       "0.6931471805599453"
      ]
     },
     "execution_count": 8,
     "metadata": {},
     "output_type": "execute_result"
    }
   ],
   "source": [
    "costFunction(theta, X, y)"
   ]
  },
  {
   "cell_type": "markdown",
   "metadata": {},
   "source": [
    "The gradient of the cost is a vector the same length as $\\theta$, as follows:\n",
    "\n",
    "$$\\frac{\\partial J(\\theta)}{\\partial \\theta_j} = \\frac{1}{m}\\sum_{i=1}^m(h_\\theta(x^{(i)}) - y^{(i)})x_j^{(i)}$$ "
   ]
  },
  {
   "cell_type": "code",
   "execution_count": 9,
   "metadata": {},
   "outputs": [],
   "source": [
    "def gradient(theta, X, y):\n",
    "    \"Compute the gradient for a single step of logistic regression\"\n",
    "    \n",
    "    m = y.size\n",
    "    theta = np.matrix(theta)\n",
    "    n_params = int(theta.shape[1])\n",
    "    grad = np.zeros(n_params)\n",
    "    \n",
    "    error = sigmoid(X * theta.T) - y\n",
    "    \n",
    "    # Compute gradient in each dimension\n",
    "    for j in range(n_params):\n",
    "        grad[j] = np.sum(np.multiply(error, X[:,j])) / m\n",
    "\n",
    "    return grad"
   ]
  },
  {
   "cell_type": "markdown",
   "metadata": {},
   "source": [
    "## Learning parameters\n",
    "Use scipy's optimization API to optimise the parameters given the cost and gradient functions (equivalent of `fminunc` in Octave)"
   ]
  },
  {
   "cell_type": "code",
   "execution_count": 10,
   "metadata": {},
   "outputs": [
    {
     "name": "stdout",
     "output_type": "stream",
     "text": [
      "cost =  0.20349770158947444\n"
     ]
    }
   ],
   "source": [
    "result = opt.fmin_tnc(func=costFunction, x0=theta, fprime=gradient, args=(X, y))\n",
    "theta = result[0]\n",
    "cost = costFunction(theta, X, y)\n",
    "print('cost = ', cost)"
   ]
  },
  {
   "cell_type": "markdown",
   "metadata": {},
   "source": [
    "Let's plot the decision boundary derived from the optimisation over the training data"
   ]
  },
  {
   "cell_type": "code",
   "execution_count": 11,
   "metadata": {},
   "outputs": [
    {
     "data": {
      "image/png": "[encoded data removed]",
      "text/plain": [
       "<Figure size 720x720 with 1 Axes>"
      ]
     },
     "metadata": {},
     "output_type": "display_data"
    }
   ],
   "source": [
    "xs = np.array([np.min(X[:,1]), np.max(X[:,1])])\n",
    "ys = (theta[0] + theta[1]*xs) / -theta[2]\n",
    "\n",
    "plt.figure(figsize=(10,10))\n",
    "plt.plot(data.loc[data['Admitted'] == 1, 'Exam 1 Score'], \n",
    "         data.loc[data['Admitted'] == 1, 'Exam 2 Score'], \n",
    "         'k+', label='Admitted')\n",
    "plt.plot(data.loc[data['Admitted'] == 0, 'Exam 1 Score'], \n",
    "         data.loc[data['Admitted'] == 0, 'Exam 2 Score'], \n",
    "         'yo', label='Not Admitted')\n",
    "plt.plot(xs, ys, 'b-', label='Decision Boundary')\n",
    "plt.legend(loc='upper right', shadow=True)\n",
    "plt.title('Scatter plot of university admission by exam score')\n",
    "plt.xlabel('Exam 1 Score')\n",
    "plt.ylabel('Exam 2 Score')\n",
    "plt.show()"
   ]
  },
  {
   "cell_type": "markdown",
   "metadata": {},
   "source": [
    "Now, we assess the accuracy of our predictions over the training data"
   ]
  },
  {
   "cell_type": "code",
   "execution_count": 33,
   "metadata": {},
   "outputs": [
    {
     "name": "stdout",
     "output_type": "stream",
     "text": [
      "accuracy =  89.0 %\n"
     ]
    }
   ],
   "source": [
    "def predict(theta, X):\n",
    "    \"\"\"Use the sigmoid function to predict the probability of each class and return class\"\"\"\n",
    "    theta = np.matrix(theta)\n",
    "    probabilities = sigmoid(X * theta.T)\n",
    "    return [1 if x >= 0.5 else 0 for x in probabilities]\n",
    "\n",
    "predictions = predict(result[0], X)\n",
    "correct = [1 if a == b else 0 for (a, b) in zip(predictions, y)]  \n",
    "accuracy = sum(correct)*100 / len(correct)  \n",
    "print('accuracy = ', accuracy, '%')"
   ]
  },
  {
   "cell_type": "code",
   "execution_count": 31,
   "metadata": {},
   "outputs": [
    {
     "data": {
      "text/plain": [
       "89"
      ]
     },
     "execution_count": 31,
     "metadata": {},
     "output_type": "execute_result"
    }
   ],
   "source": []
  }
 ],
 "metadata": {
  "kernelspec": {
   "display_name": "Python 3",
   "language": "python",
   "name": "python3"
  },
  "language_info": {
   "codemirror_mode": {
    "name": "ipython",
    "version": 3
   },
   "file_extension": ".py",
   "mimetype": "text/x-python",
   "name": "python",
   "nbconvert_exporter": "python",
   "pygments_lexer": "ipython3",
   "version": "3.6.5"
  }
 },
 "nbformat": 4,
 "nbformat_minor": 2
}
