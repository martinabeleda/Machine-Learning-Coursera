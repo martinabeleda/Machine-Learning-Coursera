{
 "cells": [
  {
   "cell_type": "markdown",
   "metadata": {},
   "source": [
    "# Exercise 3.1 - Multi-Class Classification\n",
    "This notebook covers my solutions to Andrew Ng's Machine Learning course Exercise 3 - Multi-Class Logistic Regression.\n",
    "\n",
    "In this exercise, we extend our implementation of logistic regression to a one-vs-all classification application.\n",
    "\n",
    "First, import necessary packages:"
   ]
  },
  {
   "cell_type": "code",
   "execution_count": 1,
   "metadata": {},
   "outputs": [],
   "source": [
    "import numpy as np\n",
    "import pandas as pd\n",
    "import matplotlib.pyplot as plt\n",
    "import scipy.optimize as opt\n",
    "import os\n",
    "\n",
    "from scipy.io import loadmat\n",
    "from scipy.optimize import minimize"
   ]
  },
  {
   "cell_type": "markdown",
   "metadata": {},
   "source": [
    "Now let's load and examine the training data"
   ]
  },
  {
   "cell_type": "code",
   "execution_count": 2,
   "metadata": {},
   "outputs": [
    {
     "data": {
      "text/plain": [
       "(-0.5, 399.5, 19.5, -0.5)"
      ]
     },
     "execution_count": 2,
     "metadata": {},
     "output_type": "execute_result"
    },
    {
     "data": {
      "image/png": "[encoded data removed]",
      "text/plain": [
       "<Figure size 1080x1080 with 1 Axes>"
      ]
     },
     "metadata": {},
     "output_type": "display_data"
    }
   ],
   "source": [
    "path = os.path.join(os.getcwd(), 'data', 'ex3data1.mat')\n",
    "data = loadmat(path)\n",
    "y = data['y']\n",
    "X = data['X']\n",
    "\n",
    "# Choose a random sample of data to display\n",
    "sample = X[np.random.choice(X.shape[0], 20)]\n",
    "plt.figure(figsize=(15,15))\n",
    "plt.imshow(sample.reshape(-1, 20).T, interpolation='bilinear', cmap='gray')\n",
    "plt.axis('off')"
   ]
  },
  {
   "cell_type": "markdown",
   "metadata": {},
   "source": [
    "The dataset is a sample of handwritten digits from the MNIST dataset.\n",
    "\n",
    "As in the previous exercises, we need to add a column of 1s to the feature vectors for the intercept"
   ]
  },
  {
   "cell_type": "code",
   "execution_count": 3,
   "metadata": {},
   "outputs": [
    {
     "name": "stdout",
     "output_type": "stream",
     "text": [
      "(5000, 401) (5000, 1)\n"
     ]
    }
   ],
   "source": [
    "X = np.insert(X, 0, 1, axis=1)\n",
    "print(X.shape, y.shape)"
   ]
  },
  {
   "cell_type": "markdown",
   "metadata": {},
   "source": [
    "The dataset consists of 5000 training examples where each example is a row in the $X$ matrix. Each row is a feature vector that consists of each of the pixels in each image stretched into a vector. The label vector $y$ contains integers from 1 to 10 where the digits 1-9 are labelled 1-9 and the digit 0 is labelled as 10."
   ]
  },
  {
   "cell_type": "markdown",
   "metadata": {},
   "source": [
    "## Vectorising Logistic Regression\n",
    "First, we define the sigmoid function:"
   ]
  },
  {
   "cell_type": "code",
   "execution_count": 4,
   "metadata": {},
   "outputs": [],
   "source": [
    "def sigmoid(z):\n",
    "    return 1 / (1 + np.exp(-z))"
   ]
  },
  {
   "cell_type": "markdown",
   "metadata": {},
   "source": [
    "The regularised cost function in logistic regression is given by:\n",
    "\n",
    "$$ J(\\theta) = \\frac{1}{m}\\sum_{i=1}^m[-y^{(i)}\\text{log}(h_\\theta(x^{(i)})) - (1-y^{(i)})\\text{log}(1-h_\\theta(x^{(i)}))] + \\frac{\\lambda}{2m}\\sum_{j=1}^n\\theta_j^2$$\n",
    "\n",
    "The question asks for us to vectorise our implementation of the cost function however in the previous section, we already achieved this while integrating regularisation so nothing needs to change."
   ]
  },
  {
   "cell_type": "code",
   "execution_count": 5,
   "metadata": {},
   "outputs": [],
   "source": [
    "def lrCostFunctionReg(theta, X, y, lambd):\n",
    "    \"\"\" Compute the cost for regularised logistic regression \"\"\"\n",
    "    m = y.size\n",
    "    n = theta.size\n",
    "    theta = np.matrix(theta)\n",
    "    first = np.multiply(-y, np.log(sigmoid(X * theta.T))) \n",
    "    second = np.multiply((1 - y), np.log(1 - sigmoid(X * theta.T)))\n",
    "    reg = (lambd / (2*m)) * np.sum(np.power(theta[:,1:n], 2))\n",
    "    return (np.sum(first - second) / m) + reg"
   ]
  },
  {
   "cell_type": "markdown",
   "metadata": {},
   "source": [
    "Now we adapt the gradient function to a vectorised implementation. The vectorised equation for the gradient is:\n",
    "\n",
    "$$ \\frac{\\partial J(\\theta)}{\\partial \\theta_j} = \\frac{1}{m}X^T(h_\\theta(x^{(i)}) - y^{(i)}) + \\frac{\\lambda}{m}\\theta_j $$\n",
    "\n",
    "Note that the regularisation term does not apply to the bias term $\\theta_0$."
   ]
  },
  {
   "cell_type": "code",
   "execution_count": 6,
   "metadata": {},
   "outputs": [],
   "source": [
    "def lrGradientReg(theta, X, y, lambd):\n",
    "    \"Compute the gradient for a single step of regularised logistic regression\"\n",
    "    m = y.size\n",
    "    n = theta.size\n",
    "    theta = np.matrix(theta)\n",
    "    error = sigmoid(X * theta.T) - y\n",
    "    grad = X.T * error\n",
    "    grad = grad.T + (lambd/m)*np.concatenate((np.matrix(0), theta[:,1:]), axis=1)\n",
    "    return np.array(grad).ravel()"
   ]
  },
  {
   "cell_type": "markdown",
   "metadata": {},
   "source": [
    "## One-vs-all Classification\n",
    "To train a multi-class logistic regressor, we implement one-vs-all classification by training multiple regularised logistic regressors - one for each class $K$. The model parameters $\\theta$ is defined as a matrix where each row defines the parameters for each class. We loop through each class, ensuring that the label vector is converted such that $y \\in [0, 1]$ indicating whether each training example belongs to the current class."
   ]
  },
  {
   "cell_type": "code",
   "execution_count": 7,
   "metadata": {},
   "outputs": [],
   "source": [
    "def oneVsAll(X, y, K, lambd):\n",
    "    m = X.shape[0]\n",
    "    n = X.shape[1]\n",
    "    thetas = np.zeros((K,n))\n",
    "    \n",
    "    for i in range(1, K):\n",
    "        theta = thetas[i-1,:]\n",
    "        result = minimize(lrCostFunctionReg, x0 = theta, args=(X, 1*(y==i), lambd), method='BFGS', jac=lrGradientReg)\n",
    "        thetas[i-1,:] = result['x']\n",
    "        \n",
    "    return thetas            "
   ]
  },
  {
   "cell_type": "markdown",
   "metadata": {},
   "source": [
    "Now let's train the multi-class logistic regressor at a learning rate of 1"
   ]
  },
  {
   "cell_type": "code",
   "execution_count": 8,
   "metadata": {},
   "outputs": [],
   "source": [
    "learning_rate = 0.1\n",
    "num_labels = 10\n",
    "thetas = oneVsAll(X, y, num_labels, learning_rate)"
   ]
  },
  {
   "cell_type": "markdown",
   "metadata": {},
   "source": [
    "## One-vs-all Prediction\n",
    "Now we use the one-vs-all classifier to predict on the training data. For each image, we predict the probability that it belongs to each class and select the class with the highest probability as our prediction."
   ]
  },
  {
   "cell_type": "code",
   "execution_count": 9,
   "metadata": {},
   "outputs": [],
   "source": [
    "def predictOneVsAll(thetas, X):\n",
    "    thetas = np.matrix(thetas)\n",
    "    probabilities = sigmoid(X * thetas.T)\n",
    "    return np.argmax(sigmoid(X * thetas.T), axis=1)+1"
   ]
  },
  {
   "cell_type": "markdown",
   "metadata": {},
   "source": [
    "Now, lets predict over the training data and assess the model accuracy."
   ]
  },
  {
   "cell_type": "code",
   "execution_count": 10,
   "metadata": {},
   "outputs": [
    {
     "name": "stdout",
     "output_type": "stream",
     "text": [
      "accuracy =  90.14 %\n"
     ]
    }
   ],
   "source": [
    "predictions = predictOneVsAll(thetas, X)\n",
    "correct = [1 if a == b else 0 for (a, b) in zip(predictions, y)]  \n",
    "accuracy = sum(correct)*100 / len(correct)  \n",
    "print('accuracy = ', accuracy, '%')"
   ]
  },
  {
   "cell_type": "markdown",
   "metadata": {},
   "source": [
    "We've managed to get an accuracy of 90.14% simply using logistic regression. This is a little lower than the expected value of 94.9% from the exercise sheet but this could be due to differences in optimization between Octave and Python."
   ]
  },
  {
   "cell_type": "markdown",
   "metadata": {},
   "source": [
    "## Using Scikit-learn\n",
    "Below is the code for implementing multi-class logistic regression using the scikit-learn library"
   ]
  },
  {
   "cell_type": "code",
   "execution_count": 11,
   "metadata": {},
   "outputs": [
    {
     "data": {
      "text/plain": [
       "LogisticRegression(C=1.0, class_weight=None, dual=False, fit_intercept=True,\n",
       "          intercept_scaling=1, max_iter=100, multi_class='multinomial',\n",
       "          n_jobs=1, penalty='l2', random_state=None, solver='lbfgs',\n",
       "          tol=0.0001, verbose=0, warm_start=False)"
      ]
     },
     "execution_count": 11,
     "metadata": {},
     "output_type": "execute_result"
    }
   ],
   "source": [
    "from sklearn.linear_model import LogisticRegression\n",
    "\n",
    "# Logistic regression adds the intercept term so refresh X from the original data without the intercept\n",
    "X = data['X']\n",
    "clf = LogisticRegression(penalty='l2', solver='lbfgs', multi_class='multinomial')\n",
    "clf.fit(X, y.ravel())"
   ]
  },
  {
   "cell_type": "code",
   "execution_count": 12,
   "metadata": {},
   "outputs": [
    {
     "name": "stdout",
     "output_type": "stream",
     "text": [
      "accuracy =  96.24 %\n"
     ]
    }
   ],
   "source": [
    "scikit_predictions = clf.predict(X)\n",
    "correct = [1 if a == b else 0 for (a, b) in zip(scikit_predictions, y)]  \n",
    "accuracy = sum(correct)*100 / len(correct)  \n",
    "print('accuracy = ', accuracy, '%')"
   ]
  },
  {
   "cell_type": "markdown",
   "metadata": {},
   "source": [
    "Using scikit-learn gets us an improved accuracy over the training set.\n",
    "\n",
    "Logistic regression allows us to get a result, however is only able to form a linear hypotheses. In the next section we implement a neural network to fit a more complex model to the MNIST dataset."
   ]
  }
 ],
 "metadata": {
  "kernelspec": {
   "display_name": "Python 3",
   "language": "python",
   "name": "python3"
  },
  "language_info": {
   "codemirror_mode": {
    "name": "ipython",
    "version": 3
   },
   "file_extension": ".py",
   "mimetype": "text/x-python",
   "name": "python",
   "nbconvert_exporter": "python",
   "pygments_lexer": "ipython3",
   "version": "3.6.5"
  }
 },
 "nbformat": 4,
 "nbformat_minor": 2
}
