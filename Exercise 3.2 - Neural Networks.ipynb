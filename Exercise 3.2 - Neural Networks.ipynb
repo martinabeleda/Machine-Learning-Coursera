{
 "cells": [
  {
   "cell_type": "markdown",
   "metadata": {},
   "source": [
    "# Exercise 3.2 - Neural Networks\n",
    "\n",
    "This notebook covers my solutions to Andrew Ng's Machine Learning course Exercise 3 - Neural Networks.\n",
    "\n",
    "In this exercise, we implement a neural network to fit a non-linear hypothesis to the MNIST dataset. The parameters (weights) of the model have already been provided and the goal of this exercise is to implement the feed-forward algorithm to make a prediction using the provided weights.\n",
    "\n",
    "First, import necessary packages:"
   ]
  },
  {
   "cell_type": "code",
   "execution_count": 1,
   "metadata": {},
   "outputs": [],
   "source": [
    "import numpy as np\n",
    "import pandas as pd\n",
    "import matplotlib.pyplot as plt\n",
    "import os\n",
    "\n",
    "from scipy.io import loadmat"
   ]
  },
  {
   "cell_type": "code",
   "execution_count": null,
   "metadata": {},
   "outputs": [],
   "source": []
  }
 ],
 "metadata": {
  "kernelspec": {
   "display_name": "Python 3",
   "language": "python",
   "name": "python3"
  },
  "language_info": {
   "codemirror_mode": {
    "name": "ipython",
    "version": 3
   },
   "file_extension": ".py",
   "mimetype": "text/x-python",
   "name": "python",
   "nbconvert_exporter": "python",
   "pygments_lexer": "ipython3",
   "version": "3.6.5"
  }
 },
 "nbformat": 4,
 "nbformat_minor": 2
}
